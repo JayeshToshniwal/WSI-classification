{
 "cells": [
  {
   "cell_type": "code",
   "execution_count": 2,
   "id": "7a56ced3",
   "metadata": {},
   "outputs": [
    {
     "name": "stderr",
     "output_type": "stream",
     "text": [
      "Preprocessing classes:   0%|          | 0/3 [00:00<?, ?it/s]"
     ]
    },
    {
     "name": "stderr",
     "output_type": "stream",
     "text": [
      "Preprocessing classes: 100%|██████████| 3/3 [00:08<00:00,  2.98s/it]"
     ]
    },
    {
     "name": "stdout",
     "output_type": "stream",
     "text": [
      "\n",
      "✅ Preprocessing complete. Kept 1476/246 tiles (including augmentations)\n",
      "✅ Preprocessing complete. Augmented tiles are ready for training.\n"
     ]
    },
    {
     "name": "stderr",
     "output_type": "stream",
     "text": [
      "\n"
     ]
    }
   ],
   "source": [
    "# notebooks/preprocess_tiles.ipynb\n",
    "\n",
    "# --- Fix path to scripts ---\n",
    "import sys\n",
    "sys.path.append(\"../scripts\")\n",
    "\n",
    "# --- Import preprocessing function ---\n",
    "from preprocessing import preprocess_tiles\n",
    "import os\n",
    "from torchvision import transforms\n",
    "\n",
    "# --- Define Paths ---\n",
    "tiles_folder = \"../data/tiles/\"\n",
    "processed_tiles_folder = \"../data/processed_tiles/\"\n",
    "\n",
    "# --- Set Threshold for Filtering ---\n",
    "info_threshold = 3  # Keep more tiles\n",
    "\n",
    "# --- Define Strong Augmentation Transform ---\n",
    "augmentation_transform = transforms.Compose([\n",
    "    transforms.ToPILImage(),\n",
    "    transforms.Resize((224, 224)),\n",
    "    transforms.RandomApply([\n",
    "        transforms.ColorJitter(0.3, 0.3, 0.3),\n",
    "        transforms.RandomAffine(degrees=30, shear=10, scale=(0.9, 1.1)),\n",
    "        transforms.GaussianBlur(kernel_size=5)\n",
    "    ], p=0.7),\n",
    "    transforms.RandomHorizontalFlip(),\n",
    "    transforms.RandomVerticalFlip(),\n",
    "    transforms.RandomRotation(30),\n",
    "    transforms.ToTensor(),  # Convert to tensor BEFORE RandomErasing\n",
    "    transforms.RandomErasing(p=0.5)  # Now safe to apply\n",
    "])\n",
    "\n",
    "# --- Preprocess and Augment Tiles ---\n",
    "preprocess_tiles(\n",
    "    input_dir=tiles_folder,\n",
    "    output_dir=processed_tiles_folder,\n",
    "    threshold=info_threshold,\n",
    "    n_augments=5,\n",
    "    transform=augmentation_transform\n",
    ")\n",
    "\n",
    "print(\"✅ Preprocessing complete. Augmented tiles are ready for training.\")\n"
   ]
  }
 ],
 "metadata": {
  "kernelspec": {
   "display_name": ".venv",
   "language": "python",
   "name": "python3"
  },
  "language_info": {
   "codemirror_mode": {
    "name": "ipython",
    "version": 3
   },
   "file_extension": ".py",
   "mimetype": "text/x-python",
   "name": "python",
   "nbconvert_exporter": "python",
   "pygments_lexer": "ipython3",
   "version": "3.12.5"
  }
 },
 "nbformat": 4,
 "nbformat_minor": 5
}
